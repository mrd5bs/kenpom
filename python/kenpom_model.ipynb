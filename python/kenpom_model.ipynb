{
 "cells": [
  {
   "cell_type": "code",
   "execution_count": 1,
   "metadata": {
    "collapsed": false
   },
   "outputs": [],
   "source": [
    "import numpy as np\n",
    "import pandas as pd\n",
    "import matplotlib.pyplot as plt\n",
    "from sklearn import tree\n",
    "import random\n",
    "from sklearn.externals.six import StringIO\n",
    "import pydotplus\n",
    "from sklearn.tree import export_graphviz\n",
    "from sklearn.feature_selection import RFE\n",
    "from sklearn.linear_model import LogisticRegression\n",
    "from graphviz import Source\n",
    "from sklearn.ensemble import RandomForestClassifier\n",
    "from sklearn.ensemble import VotingClassifier\n",
    "from sklearn.naive_bayes import GaussianNB\n",
    "from sklearn.linear_model import RandomizedLogisticRegression\n",
    "from sklearn import metrics\n",
    "from ggplot import *"
   ]
  },
  {
   "cell_type": "code",
   "execution_count": 2,
   "metadata": {
    "collapsed": true
   },
   "outputs": [],
   "source": [
    "abt = pd.read_csv('C:/Users/Mark/kenpom/data/abt.csv')"
   ]
  },
  {
   "cell_type": "code",
   "execution_count": 3,
   "metadata": {
    "collapsed": false
   },
   "outputs": [],
   "source": [
    "y = abt['Tourney']\n",
    "x = abt.iloc[:,6:]\n",
    "ynew = y.loc[abt['Season']<2016]\n",
    "ynew = ynew.loc[abt['Season']>=2009]\n",
    "xnew = x.loc[abt['Season']<2016]\n",
    "xnew = xnew.loc[abt['Season']>=2009]\n",
    "yfinal = y.loc[abt['Season']==2016]\n",
    "xfinal = x.loc[abt['Season']==2016]\n",
    "yclf = y.reshape(-1,1)\n",
    "ynewclf = ynew.reshape(-1,1)\n",
    "yfinalclf = yfinal.reshape(-1,1)\n",
    "xclf = np.array(x)\n",
    "xnewclf = np.array(xnew)\n",
    "xfinalclf = np.array(xfinal)\n",
    "indexseason = [2009,2010,2011,2012,2013,2014,2015]"
   ]
  },
  {
   "cell_type": "code",
   "execution_count": 4,
   "metadata": {
    "collapsed": false
   },
   "outputs": [],
   "source": [
    "# def ensemble1(xtr,ytr,xte,yte):\n",
    "#     clf1 = LogisticRegression(random_state=1)\n",
    "#     clf2 = RandomForestClassifier(random_state=1)\n",
    "#     clf3 = GaussianNB()\n",
    "#     clf4 = tree.DecisionTreeClassifier()\n",
    "\n",
    "#     eclf1 = VotingClassifier(estimators=[\n",
    "#             ('lr', clf1), ('rf', clf2), ('gnb', clf3), ('dt', clf4)], voting='hard', weights=[3,3,1,2])\n",
    "#     eclf1 = eclf1.fit(xtr, ytr)\n",
    "\n",
    "#     eclf2 = VotingClassifier(estimators=[\n",
    "#             ('lr', clf1), ('rf', clf2), ('gnb', clf3), ('dt', clf4)],\n",
    "#             voting='soft', weights=[3,3,1,2])\n",
    "#     eclf2 = eclf2.fit(xtr, ytr)\n",
    "\n",
    "#     clf1 = clf1.fit(xtr,ytr)\n",
    "#     clf2 = clf2.fit(xtr,ytr)\n",
    "#     clf3 = clf3.fit(xtr,ytr)\n",
    "#     clf4 = clf4.fit(xtr,ytr)\n",
    "\n",
    "#     print('Without RLR:')\n",
    "#     print('CLF 1: ',clf1.score(xte,yte))\n",
    "#     print('CLF 2: ',clf2.score(xte,yte))\n",
    "#     print('CLF 3: ',clf3.score(xte,yte))\n",
    "#     print('CLF 4: ',clf4.score(xte,yte))\n",
    "\n",
    "#     print('ECLF 1: ',eclf1.score(xte,yte))\n",
    "#     print('ECLF 2: ',eclf2.score(xte,yte))"
   ]
  },
  {
   "cell_type": "code",
   "execution_count": 5,
   "metadata": {
    "collapsed": false
   },
   "outputs": [],
   "source": [
    "def ensemble1(xtr,ytr,xte,yte):\n",
    "    clf1 = LogisticRegression(random_state=1)\n",
    "    clf2 = RandomForestClassifier(random_state=1)\n",
    "    clf4 = tree.DecisionTreeClassifier()\n",
    "\n",
    "    eclf1 = VotingClassifier(estimators=[\n",
    "            ('lr', clf1), ('rf', clf2), ('dt', clf4)], voting='hard', weights=[3,3,2])\n",
    "    eclf1 = eclf1.fit(xtr, ytr)\n",
    "\n",
    "    eclf2 = VotingClassifier(estimators=[\n",
    "            ('lr', clf1), ('rf', clf2), ('dt', clf4)],\n",
    "            voting='soft', weights=[3,3,2])\n",
    "    eclf2 = eclf2.fit(xtr, ytr)\n",
    "\n",
    "    clf1 = clf1.fit(xtr,ytr)\n",
    "    clf2 = clf2.fit(xtr,ytr)\n",
    "    clf4 = clf4.fit(xtr,ytr)\n",
    "\n",
    "    print('Without RLR:')\n",
    "    print('CLF 1: ',clf1.score(xte,yte))\n",
    "    print('CLF 2: ',clf2.score(xte,yte))\n",
    "    print('CLF 4: ',clf4.score(xte,yte))\n",
    "\n",
    "    print('ECLF 1: ',eclf1.score(xte,yte))\n",
    "    print('ECLF 2: ',eclf2.score(xte,yte))"
   ]
  },
  {
   "cell_type": "code",
   "execution_count": 6,
   "metadata": {
    "collapsed": false
   },
   "outputs": [],
   "source": [
    "# def ensemble2(xtr,ytr,xte,yte):\n",
    "#     clf1 = LogisticRegression(random_state=1)\n",
    "#     clf2 = RandomForestClassifier(random_state=1)\n",
    "#     clf3 = GaussianNB()\n",
    "#     clf4 = tree.DecisionTreeClassifier()\n",
    "#     rlr = RandomizedLogisticRegression()\n",
    "\n",
    "#     rlrxtrain = rlr.fit_transform(xtr,ytr)\n",
    "#     rlrxtest = rlr.transform(xte)\n",
    "\n",
    "#     eclf1 = VotingClassifier(estimators=[\n",
    "#             ('lr', clf1), ('rf', clf2), ('gnb', clf3), ('dt', clf4)], voting='hard', weights=[3,3,1,2])\n",
    "#     eclf1 = eclf1.fit(rlrxtrain, ytr)\n",
    "\n",
    "#     eclf2 = VotingClassifier(estimators=[\n",
    "#             ('lr', clf1), ('rf', clf2), ('gnb', clf3), ('dt', clf4)],\n",
    "#             voting='soft', weights=[3,3,1,2])\n",
    "#     eclf2 = eclf2.fit(rlrxtrain, ytr)\n",
    "\n",
    "#     clf1 = clf1.fit(rlrxtrain,ytr)\n",
    "#     clf2 = clf2.fit(rlrxtrain,ytr)\n",
    "#     clf3 = clf3.fit(rlrxtrain,ytr)\n",
    "#     clf4 = clf4.fit(rlrxtrain,ytr)\n",
    "\n",
    "#     print('With RLR:')\n",
    "#     print('CLF 1: ',clf1.score(rlrxtest,yte))\n",
    "#     print('CLF 2: ',clf2.score(rlrxtest,yte))\n",
    "#     print('CLF 3: ',clf3.score(rlrxtest,yte))\n",
    "#     print('CLF 4: ',clf4.score(rlrxtest,yte))\n",
    "\n",
    "#     print('ECLF 1: ',eclf1.score(rlrxtest,yte))\n",
    "#     print('ECLF 2: ',eclf2.score(rlrxtest,yte))"
   ]
  },
  {
   "cell_type": "code",
   "execution_count": 7,
   "metadata": {
    "collapsed": false
   },
   "outputs": [],
   "source": [
    "def ensemble2(xtr,ytr,xte,yte):\n",
    "    clf1 = LogisticRegression(random_state=1)\n",
    "    clf2 = RandomForestClassifier(random_state=1)\n",
    "    clf4 = tree.DecisionTreeClassifier()\n",
    "    rlr = RandomizedLogisticRegression()\n",
    "\n",
    "    rlrxtrain = rlr.fit_transform(xtr,ytr)\n",
    "    rlrxtest = rlr.transform(xte)\n",
    "\n",
    "    eclf1 = VotingClassifier(estimators=[\n",
    "            ('lr', clf1), ('rf', clf2), ('dt', clf4)], voting='hard', weights=[3,3,2])\n",
    "    eclf1 = eclf1.fit(rlrxtrain, ytr)\n",
    "\n",
    "    eclf2 = VotingClassifier(estimators=[\n",
    "            ('lr', clf1), ('rf', clf2), ('dt', clf4)],\n",
    "            voting='soft', weights=[3,3,2])\n",
    "    eclf2 = eclf2.fit(rlrxtrain, ytr)\n",
    "\n",
    "    clf1 = clf1.fit(rlrxtrain,ytr)\n",
    "    clf2 = clf2.fit(rlrxtrain,ytr)\n",
    "    clf4 = clf4.fit(rlrxtrain,ytr)\n",
    "\n",
    "    print('With RLR:')\n",
    "    print('CLF 1: ',clf1.score(rlrxtest,yte))\n",
    "    print('CLF 2: ',clf2.score(rlrxtest,yte))\n",
    "    print('CLF 4: ',clf4.score(rlrxtest,yte))\n",
    "\n",
    "    print('ECLF 1: ',eclf1.score(rlrxtest,yte))\n",
    "    print('ECLF 2: ',eclf2.score(rlrxtest,yte))"
   ]
  },
  {
   "cell_type": "code",
   "execution_count": 8,
   "metadata": {
    "collapsed": false
   },
   "outputs": [],
   "source": [
    "def comparemodels(x,y,index):\n",
    "    testindex = random.sample(index,2)\n",
    "    testindex\n",
    "    trainindex = indexseason.copy()\n",
    "    trainindex.remove(testindex[0])\n",
    "    trainindex.remove(testindex[1])\n",
    "    xtest = np.array(x.loc[abt['Season'].isin(testindex)])\n",
    "    xtrain = np.array(x.loc[abt['Season'].isin(trainindex)])\n",
    "    ytest = np.array(y.loc[abt['Season'].isin(testindex)])\n",
    "    ytrain = np.array(y.loc[abt['Season'].isin(trainindex)])\n",
    "    print(testindex)\n",
    "    ensemble1(xtrain,ytrain,xtest,ytest)\n",
    "    ensemble2(xtrain,ytrain,xtest,ytest)"
   ]
  },
  {
   "cell_type": "code",
   "execution_count": 9,
   "metadata": {
    "collapsed": false
   },
   "outputs": [
    {
     "name": "stdout",
     "output_type": "stream",
     "text": [
      "[2009, 2010]\n",
      "Without RLR:\n",
      "CLF 1:  0.86975397974\n",
      "CLF 2:  0.887120115774\n",
      "CLF 4:  0.874095513748\n",
      "ECLF 1:  0.898697539797\n",
      "ECLF 2:  0.895803183792\n",
      "With RLR:\n",
      "CLF 1:  0.89001447178\n",
      "CLF 2:  0.905933429812\n",
      "CLF 4:  0.863965267728\n",
      "ECLF 1:  0.897250361795\n",
      "ECLF 2:  0.898697539797\n"
     ]
    }
   ],
   "source": [
    "comparemodels(x,y,indexseason)"
   ]
  },
  {
   "cell_type": "code",
   "execution_count": 10,
   "metadata": {
    "collapsed": false
   },
   "outputs": [
    {
     "name": "stdout",
     "output_type": "stream",
     "text": [
      "[2014, 2013]\n",
      "Without RLR:\n",
      "CLF 1:  0.909742120344\n",
      "CLF 2:  0.89111747851\n",
      "CLF 4:  0.87106017192\n",
      "ECLF 1:  0.902578796562\n",
      "ECLF 2:  0.902578796562\n",
      "With RLR:\n",
      "CLF 1:  0.902578796562\n",
      "CLF 2:  0.885386819484\n",
      "CLF 4:  0.805157593123\n",
      "ECLF 1:  0.896848137536\n",
      "ECLF 2:  0.896848137536\n"
     ]
    }
   ],
   "source": [
    "comparemodels(x,y,indexseason)"
   ]
  },
  {
   "cell_type": "code",
   "execution_count": 11,
   "metadata": {
    "collapsed": false
   },
   "outputs": [
    {
     "name": "stdout",
     "output_type": "stream",
     "text": [
      "[2011, 2014]\n",
      "Without RLR:\n",
      "CLF 1:  0.880747126437\n",
      "CLF 2:  0.882183908046\n",
      "CLF 4:  0.847701149425\n",
      "ECLF 1:  0.885057471264\n",
      "ECLF 2:  0.885057471264\n",
      "With RLR:\n",
      "CLF 1:  0.899425287356\n",
      "CLF 2:  0.895114942529\n",
      "CLF 4:  0.811781609195\n",
      "ECLF 1:  0.900862068966\n",
      "ECLF 2:  0.889367816092\n"
     ]
    }
   ],
   "source": [
    "comparemodels(x,y,indexseason)"
   ]
  },
  {
   "cell_type": "code",
   "execution_count": 12,
   "metadata": {
    "collapsed": false
   },
   "outputs": [
    {
     "name": "stdout",
     "output_type": "stream",
     "text": [
      "[2009, 2012]\n",
      "Without RLR:\n",
      "CLF 1:  0.878084179971\n",
      "CLF 2:  0.898403483309\n",
      "CLF 4:  0.856313497823\n",
      "ECLF 1:  0.895500725689\n",
      "ECLF 2:  0.89114658926\n",
      "With RLR:\n",
      "CLF 1:  0.901306240929\n",
      "CLF 2:  0.902757619739\n",
      "CLF 4:  0.869375907112\n",
      "ECLF 1:  0.901306240929\n",
      "ECLF 2:  0.896952104499\n"
     ]
    }
   ],
   "source": [
    "comparemodels(x,y,indexseason)"
   ]
  },
  {
   "cell_type": "code",
   "execution_count": 13,
   "metadata": {
    "collapsed": false
   },
   "outputs": [
    {
     "name": "stdout",
     "output_type": "stream",
     "text": [
      "[2015, 2009]\n",
      "Without RLR:\n",
      "CLF 1:  0.890647482014\n",
      "CLF 2:  0.873381294964\n",
      "CLF 4:  0.834532374101\n",
      "ECLF 1:  0.892086330935\n",
      "ECLF 2:  0.890647482014\n",
      "With RLR:\n",
      "CLF 1:  0.890647482014\n",
      "CLF 2:  0.889208633094\n",
      "CLF 4:  0.863309352518\n",
      "ECLF 1:  0.894964028777\n",
      "ECLF 2:  0.893525179856\n"
     ]
    }
   ],
   "source": [
    "comparemodels(x,y,indexseason)"
   ]
  },
  {
   "cell_type": "code",
   "execution_count": 14,
   "metadata": {
    "collapsed": false
   },
   "outputs": [
    {
     "name": "stdout",
     "output_type": "stream",
     "text": [
      "[2015, 2013]\n",
      "Without RLR:\n",
      "CLF 1:  0.893982808023\n",
      "CLF 2:  0.873925501433\n",
      "CLF 4:  0.862464183381\n",
      "ECLF 1:  0.896848137536\n",
      "ECLF 2:  0.905444126074\n",
      "With RLR:\n",
      "CLF 1:  0.899713467049\n",
      "CLF 2:  0.895415472779\n",
      "CLF 4:  0.869627507163\n",
      "ECLF 1:  0.902578796562\n",
      "ECLF 2:  0.902578796562\n"
     ]
    }
   ],
   "source": [
    "comparemodels(x,y,indexseason)"
   ]
  },
  {
   "cell_type": "code",
   "execution_count": 15,
   "metadata": {
    "collapsed": false
   },
   "outputs": [
    {
     "name": "stdout",
     "output_type": "stream",
     "text": [
      "[2012, 2009]\n",
      "Without RLR:\n",
      "CLF 1:  0.878084179971\n",
      "CLF 2:  0.898403483309\n",
      "CLF 4:  0.859216255443\n",
      "ECLF 1:  0.895500725689\n",
      "ECLF 2:  0.89114658926\n",
      "With RLR:\n",
      "CLF 1:  0.901306240929\n",
      "CLF 2:  0.902757619739\n",
      "CLF 4:  0.882438316401\n",
      "ECLF 1:  0.902757619739\n",
      "ECLF 2:  0.899854862119\n"
     ]
    }
   ],
   "source": [
    "comparemodels(x,y,indexseason)"
   ]
  },
  {
   "cell_type": "code",
   "execution_count": 16,
   "metadata": {
    "collapsed": false
   },
   "outputs": [
    {
     "name": "stdout",
     "output_type": "stream",
     "text": [
      "[2013, 2010]\n",
      "Without RLR:\n",
      "CLF 1:  0.914985590778\n",
      "CLF 2:  0.890489913545\n",
      "CLF 4:  0.865994236311\n",
      "ECLF 1:  0.904899135447\n",
      "ECLF 2:  0.904899135447\n",
      "With RLR:\n",
      "CLF 1:  0.912103746398\n",
      "CLF 2:  0.917867435159\n",
      "CLF 4:  0.880403458213\n",
      "ECLF 1:  0.914985590778\n",
      "ECLF 2:  0.909221902017\n"
     ]
    }
   ],
   "source": [
    "comparemodels(x,y,indexseason)"
   ]
  },
  {
   "cell_type": "code",
   "execution_count": 17,
   "metadata": {
    "collapsed": false
   },
   "outputs": [
    {
     "name": "stdout",
     "output_type": "stream",
     "text": [
      "[2014, 2013]\n",
      "Without RLR:\n",
      "CLF 1:  0.909742120344\n",
      "CLF 2:  0.89111747851\n",
      "CLF 4:  0.861031518625\n",
      "ECLF 1:  0.904011461318\n",
      "ECLF 2:  0.899713467049\n",
      "With RLR:\n",
      "CLF 1:  0.904011461318\n",
      "CLF 2:  0.895415472779\n",
      "CLF 4:  0.839541547278\n",
      "ECLF 1:  0.898280802292\n",
      "ECLF 2:  0.893982808023\n"
     ]
    }
   ],
   "source": [
    "comparemodels(x,y,indexseason)"
   ]
  },
  {
   "cell_type": "code",
   "execution_count": 18,
   "metadata": {
    "collapsed": false
   },
   "outputs": [
    {
     "name": "stdout",
     "output_type": "stream",
     "text": [
      "[2010, 2013]\n",
      "Without RLR:\n",
      "CLF 1:  0.914985590778\n",
      "CLF 2:  0.890489913545\n",
      "CLF 4:  0.86023054755\n",
      "ECLF 1:  0.904899135447\n",
      "ECLF 2:  0.904899135447\n",
      "With RLR:\n",
      "CLF 1:  0.912103746398\n",
      "CLF 2:  0.917867435159\n",
      "CLF 4:  0.876080691643\n",
      "ECLF 1:  0.916426512968\n",
      "ECLF 2:  0.910662824207\n"
     ]
    }
   ],
   "source": [
    "comparemodels(x,y,indexseason)"
   ]
  },
  {
   "cell_type": "code",
   "execution_count": 19,
   "metadata": {
    "collapsed": false
   },
   "outputs": [
    {
     "name": "stdout",
     "output_type": "stream",
     "text": [
      "[2012, 2014]\n",
      "Without RLR:\n",
      "CLF 1:  0.899425287356\n",
      "CLF 2:  0.890804597701\n",
      "CLF 4:  0.852011494253\n",
      "ECLF 1:  0.903735632184\n",
      "ECLF 2:  0.89367816092\n",
      "With RLR:\n",
      "CLF 1:  0.916666666667\n",
      "CLF 2:  0.906609195402\n",
      "CLF 4:  0.853448275862\n",
      "ECLF 1:  0.909482758621\n",
      "ECLF 2:  0.902298850575\n"
     ]
    }
   ],
   "source": [
    "comparemodels(x,y,indexseason)"
   ]
  },
  {
   "cell_type": "code",
   "execution_count": 20,
   "metadata": {
    "collapsed": true
   },
   "outputs": [],
   "source": [
    "xvalidation = np.array(x.loc[abt['Season'].isin(indexseason)])\n",
    "yvalidation = np.array(y.loc[abt['Season'].isin(indexseason)])"
   ]
  },
  {
   "cell_type": "code",
   "execution_count": 21,
   "metadata": {
    "collapsed": false
   },
   "outputs": [
    {
     "name": "stdout",
     "output_type": "stream",
     "text": [
      "With RLR:\n",
      "CLF 1:  0.88603988604\n",
      "CLF 2:  0.883190883191\n",
      "CLF 4:  0.82905982906\n",
      "ECLF 1:  0.888888888889\n",
      "ECLF 2:  0.903133903134\n"
     ]
    }
   ],
   "source": [
    "ensemble2(xvalidation,yvalidation,xfinalclf,yfinalclf)"
   ]
  }
 ],
 "metadata": {
  "kernelspec": {
   "display_name": "Python 3",
   "language": "python",
   "name": "python3"
  },
  "language_info": {
   "codemirror_mode": {
    "name": "ipython",
    "version": 3
   },
   "file_extension": ".py",
   "mimetype": "text/x-python",
   "name": "python",
   "nbconvert_exporter": "python",
   "pygments_lexer": "ipython3",
   "version": "3.5.1"
  }
 },
 "nbformat": 4,
 "nbformat_minor": 0
}
