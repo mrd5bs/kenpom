{
 "cells": [
  {
   "cell_type": "code",
   "execution_count": 1,
   "metadata": {
    "collapsed": false
   },
   "outputs": [],
   "source": [
    "import numpy as np\n",
    "import pandas as pd\n",
    "import matplotlib.pyplot as plt\n",
    "from sklearn import tree\n",
    "import random\n",
    "from sklearn.externals.six import StringIO\n",
    "import pydotplus\n",
    "from sklearn.tree import export_graphviz\n",
    "from sklearn.feature_selection import RFE\n",
    "from sklearn.linear_model import LogisticRegression\n",
    "from graphviz import Source\n",
    "from sklearn.ensemble import RandomForestClassifier\n",
    "from sklearn.ensemble import VotingClassifier\n",
    "from sklearn.naive_bayes import GaussianNB\n",
    "from sklearn.linear_model import RandomizedLogisticRegression"
   ]
  },
  {
   "cell_type": "code",
   "execution_count": 2,
   "metadata": {
    "collapsed": true
   },
   "outputs": [],
   "source": [
    "abt = pd.read_csv('C:/Users/Mark/kenpom/data/abt.csv')"
   ]
  },
  {
   "cell_type": "code",
   "execution_count": 3,
   "metadata": {
    "collapsed": false
   },
   "outputs": [],
   "source": [
    "y = abt['Tourney']\n",
    "x = abt.iloc[:,6:]\n",
    "ynew = y.loc[abt['Season']<2016]\n",
    "ynew = ynew.loc[abt['Season']>=2009]\n",
    "xnew = x.loc[abt['Season']<2016]\n",
    "xnew = xnew.loc[abt['Season']>=2009]\n",
    "yfinal = y.loc[abt['Season']==2016]\n",
    "xfinal = x.loc[abt['Season']==2016]\n",
    "yclf = y.reshape(-1,1)\n",
    "ynewclf = ynew.reshape(-1,1)\n",
    "yfinalclf = yfinal.reshape(-1,1)\n",
    "xclf = np.array(x)\n",
    "xnewclf = np.array(xnew)\n",
    "xfinalclf = np.array(xfinal)\n",
    "indexseason = [2009,2010,2011,2012,2013,2014,2015]"
   ]
  },
  {
   "cell_type": "code",
   "execution_count": 4,
   "metadata": {
    "collapsed": false
   },
   "outputs": [],
   "source": [
    "def ensemble1(xtr,ytr,xte,yte):\n",
    "    clf1 = LogisticRegression(random_state=1)\n",
    "    clf2 = RandomForestClassifier(random_state=1)\n",
    "    clf3 = GaussianNB()\n",
    "    clf4 = tree.DecisionTreeClassifier()\n",
    "\n",
    "    eclf1 = VotingClassifier(estimators=[\n",
    "            ('lr', clf1), ('rf', clf2), ('gnb', clf3), ('dt', clf4)], voting='hard', weights=[4,4,1,2])\n",
    "    eclf1 = eclf1.fit(xtr, ytr)\n",
    "\n",
    "    eclf2 = VotingClassifier(estimators=[\n",
    "            ('lr', clf1), ('rf', clf2), ('gnb', clf3), ('dt', clf4)],\n",
    "            voting='soft', weights=[4,4,1,2])\n",
    "    eclf2 = eclf2.fit(xtr, ytr)\n",
    "\n",
    "    clf1 = clf1.fit(xtr,ytr)\n",
    "    clf2 = clf2.fit(xtr,ytr)\n",
    "    clf3 = clf3.fit(xtr,ytr)\n",
    "    clf4 = clf4.fit(xtr,ytr)\n",
    "\n",
    "    print('Without RLR:')\n",
    "    print('CLF 1: ',clf1.score(xte,yte))\n",
    "    print('CLF 2: ',clf2.score(xte,yte))\n",
    "    print('CLF 3: ',clf3.score(xte,yte))\n",
    "    print('CLF 4: ',clf4.score(xte,yte))\n",
    "\n",
    "    print('ECLF 1: ',eclf1.score(xte,yte))\n",
    "    print('ECLF 2: ',eclf2.score(xte,yte))"
   ]
  },
  {
   "cell_type": "code",
   "execution_count": 5,
   "metadata": {
    "collapsed": false
   },
   "outputs": [],
   "source": [
    "def ensemble2(xtr,ytr,xte,yte):\n",
    "    clf1 = LogisticRegression(random_state=1)\n",
    "    clf2 = RandomForestClassifier(random_state=1)\n",
    "    clf3 = GaussianNB()\n",
    "    clf4 = tree.DecisionTreeClassifier()\n",
    "    rlr = RandomizedLogisticRegression()\n",
    "\n",
    "    rlrxtrain = rlr.fit_transform(xtr,ytr)\n",
    "    rlrxtest = rlr.transform(xte)\n",
    "\n",
    "    eclf1 = VotingClassifier(estimators=[\n",
    "            ('lr', clf1), ('rf', clf2), ('gnb', clf3), ('dt', clf4)], voting='hard', weights=[4,4,1,2])\n",
    "    eclf1 = eclf1.fit(rlrxtrain, ytr)\n",
    "\n",
    "    eclf2 = VotingClassifier(estimators=[\n",
    "            ('lr', clf1), ('rf', clf2), ('gnb', clf3), ('dt', clf4)],\n",
    "            voting='soft', weights=[4,4,1,2])\n",
    "    eclf2 = eclf2.fit(rlrxtrain, ytr)\n",
    "\n",
    "    clf1 = clf1.fit(rlrxtrain,ytr)\n",
    "    clf2 = clf2.fit(rlrxtrain,ytr)\n",
    "    clf3 = clf3.fit(rlrxtrain,ytr)\n",
    "    clf4 = clf4.fit(rlrxtrain,ytr)\n",
    "\n",
    "    print('With RLR:')\n",
    "    print('CLF 1: ',clf1.score(rlrxtest,yte))\n",
    "    print('CLF 2: ',clf2.score(rlrxtest,yte))\n",
    "    print('CLF 3: ',clf3.score(rlrxtest,yte))\n",
    "    print('CLF 4: ',clf4.score(rlrxtest,yte))\n",
    "\n",
    "    print('ECLF 1: ',eclf1.score(rlrxtest,yte))\n",
    "    print('ECLF 2: ',eclf2.score(rlrxtest,yte))"
   ]
  },
  {
   "cell_type": "code",
   "execution_count": 6,
   "metadata": {
    "collapsed": false
   },
   "outputs": [],
   "source": [
    "def comparemodels(x,y,index):\n",
    "    testindex = random.sample(index,2)\n",
    "    testindex\n",
    "    trainindex = indexseason.copy()\n",
    "    trainindex.remove(testindex[0])\n",
    "    trainindex.remove(testindex[1])\n",
    "    xtest = np.array(x.loc[abt['Season'].isin(testindex)])\n",
    "    xtrain = np.array(x.loc[abt['Season'].isin(trainindex)])\n",
    "    ytest = np.array(y.loc[abt['Season'].isin(testindex)])\n",
    "    ytrain = np.array(y.loc[abt['Season'].isin(trainindex)])\n",
    "    print(testindex)\n",
    "    ensemble1(xtrain,ytrain,xtest,ytest)\n",
    "    ensemble2(xtrain,ytrain,xtest,ytest)"
   ]
  },
  {
   "cell_type": "code",
   "execution_count": 7,
   "metadata": {
    "collapsed": false
   },
   "outputs": [
    {
     "name": "stdout",
     "output_type": "stream",
     "text": [
      "[2014, 2012]\n",
      "Without RLR:\n",
      "CLF 1:  0.899425287356\n",
      "CLF 2:  0.890804597701\n",
      "CLF 3:  0.830459770115\n",
      "CLF 4:  0.844827586207\n",
      "ECLF 1:  0.902298850575\n",
      "ECLF 2:  0.89224137931\n",
      "With RLR:\n",
      "CLF 1:  0.916666666667\n",
      "CLF 2:  0.906609195402\n",
      "CLF 3:  0.853448275862\n",
      "CLF 4:  0.859195402299\n",
      "ECLF 1:  0.908045977011\n",
      "ECLF 2:  0.905172413793\n"
     ]
    }
   ],
   "source": [
    "comparemodels(x,y,indexseason)"
   ]
  },
  {
   "cell_type": "code",
   "execution_count": 8,
   "metadata": {
    "collapsed": false
   },
   "outputs": [
    {
     "name": "stdout",
     "output_type": "stream",
     "text": [
      "[2013, 2010]\n",
      "Without RLR:\n",
      "CLF 1:  0.914985590778\n",
      "CLF 2:  0.890489913545\n",
      "CLF 3:  0.829971181556\n",
      "CLF 4:  0.871757925072\n",
      "ECLF 1:  0.907780979827\n",
      "ECLF 2:  0.910662824207\n",
      "With RLR:\n",
      "CLF 1:  0.912103746398\n",
      "CLF 2:  0.917867435159\n",
      "CLF 3:  0.835734870317\n",
      "CLF 4:  0.874639769452\n",
      "ECLF 1:  0.914985590778\n",
      "ECLF 2:  0.907780979827\n"
     ]
    }
   ],
   "source": [
    "comparemodels(x,y,indexseason)"
   ]
  },
  {
   "cell_type": "code",
   "execution_count": 9,
   "metadata": {
    "collapsed": false
   },
   "outputs": [
    {
     "name": "stdout",
     "output_type": "stream",
     "text": [
      "[2009, 2015]\n",
      "Without RLR:\n",
      "CLF 1:  0.890647482014\n",
      "CLF 2:  0.873381294964\n",
      "CLF 3:  0.814388489209\n",
      "CLF 4:  0.856115107914\n",
      "ECLF 1:  0.896402877698\n",
      "ECLF 2:  0.887769784173\n",
      "With RLR:\n",
      "CLF 1:  0.889208633094\n",
      "CLF 2:  0.89928057554\n",
      "CLF 3:  0.854676258993\n",
      "CLF 4:  0.869064748201\n",
      "ECLF 1:  0.902158273381\n",
      "ECLF 2:  0.90071942446\n"
     ]
    }
   ],
   "source": [
    "comparemodels(x,y,indexseason)"
   ]
  },
  {
   "cell_type": "code",
   "execution_count": 10,
   "metadata": {
    "collapsed": false
   },
   "outputs": [
    {
     "name": "stdout",
     "output_type": "stream",
     "text": [
      "[2015, 2014]\n",
      "Without RLR:\n",
      "CLF 1:  0.881766381766\n",
      "CLF 2:  0.877492877493\n",
      "CLF 3:  0.820512820513\n",
      "CLF 4:  0.823361823362\n",
      "ECLF 1:  0.887464387464\n",
      "ECLF 2:  0.89886039886\n",
      "With RLR:\n",
      "CLF 1:  0.904558404558\n",
      "CLF 2:  0.894586894587\n",
      "CLF 3:  0.863247863248\n",
      "CLF 4:  0.84188034188\n",
      "ECLF 1:  0.913105413105\n",
      "ECLF 2:  0.903133903134\n"
     ]
    }
   ],
   "source": [
    "comparemodels(x,y,indexseason)"
   ]
  },
  {
   "cell_type": "code",
   "execution_count": 11,
   "metadata": {
    "collapsed": false
   },
   "outputs": [
    {
     "name": "stdout",
     "output_type": "stream",
     "text": [
      "[2015, 2013]\n",
      "Without RLR:\n",
      "CLF 1:  0.893982808023\n",
      "CLF 2:  0.873925501433\n",
      "CLF 3:  0.822349570201\n",
      "CLF 4:  0.873925501433\n",
      "ECLF 1:  0.893982808023\n",
      "ECLF 2:  0.904011461318\n",
      "With RLR:\n",
      "CLF 1:  0.898280802292\n",
      "CLF 2:  0.9111747851\n",
      "CLF 3:  0.842406876791\n",
      "CLF 4:  0.869627507163\n",
      "ECLF 1:  0.905444126074\n",
      "ECLF 2:  0.908309455587\n"
     ]
    }
   ],
   "source": [
    "comparemodels(x,y,indexseason)"
   ]
  },
  {
   "cell_type": "code",
   "execution_count": 12,
   "metadata": {
    "collapsed": false
   },
   "outputs": [
    {
     "name": "stdout",
     "output_type": "stream",
     "text": [
      "[2014, 2013]\n",
      "Without RLR:\n",
      "CLF 1:  0.909742120344\n",
      "CLF 2:  0.89111747851\n",
      "CLF 3:  0.833810888252\n",
      "CLF 4:  0.869627507163\n",
      "ECLF 1:  0.908309455587\n",
      "ECLF 2:  0.905444126074\n",
      "With RLR:\n",
      "CLF 1:  0.901146131805\n",
      "CLF 2:  0.892550143266\n",
      "CLF 3:  0.855300859599\n",
      "CLF 4:  0.835243553009\n",
      "ECLF 1:  0.901146131805\n",
      "ECLF 2:  0.895415472779\n"
     ]
    }
   ],
   "source": [
    "comparemodels(x,y,indexseason)"
   ]
  },
  {
   "cell_type": "code",
   "execution_count": 13,
   "metadata": {
    "collapsed": false
   },
   "outputs": [
    {
     "name": "stdout",
     "output_type": "stream",
     "text": [
      "[2011, 2013]\n",
      "Without RLR:\n",
      "CLF 1:  0.893063583815\n",
      "CLF 2:  0.906069364162\n",
      "CLF 3:  0.830924855491\n",
      "CLF 4:  0.859826589595\n",
      "ECLF 1:  0.910404624277\n",
      "ECLF 2:  0.908959537572\n",
      "With RLR:\n",
      "CLF 1:  0.901734104046\n",
      "CLF 2:  0.897398843931\n",
      "CLF 3:  0.846820809249\n",
      "CLF 4:  0.865606936416\n",
      "ECLF 1:  0.904624277457\n",
      "ECLF 2:  0.900289017341\n"
     ]
    }
   ],
   "source": [
    "comparemodels(x,y,indexseason)"
   ]
  },
  {
   "cell_type": "code",
   "execution_count": 14,
   "metadata": {
    "collapsed": false
   },
   "outputs": [
    {
     "name": "stdout",
     "output_type": "stream",
     "text": [
      "[2009, 2014]\n",
      "Without RLR:\n",
      "CLF 1:  0.871942446043\n",
      "CLF 2:  0.879136690647\n",
      "CLF 3:  0.821582733813\n",
      "CLF 4:  0.844604316547\n",
      "ECLF 1:  0.889208633094\n",
      "ECLF 2:  0.884892086331\n",
      "With RLR:\n",
      "CLF 1:  0.893525179856\n",
      "CLF 2:  0.884892086331\n",
      "CLF 3:  0.85035971223\n",
      "CLF 4:  0.857553956835\n",
      "ECLF 1:  0.892086330935\n",
      "ECLF 2:  0.886330935252\n"
     ]
    }
   ],
   "source": [
    "comparemodels(x,y,indexseason)"
   ]
  },
  {
   "cell_type": "code",
   "execution_count": 15,
   "metadata": {
    "collapsed": false
   },
   "outputs": [
    {
     "name": "stdout",
     "output_type": "stream",
     "text": [
      "[2013, 2009]\n",
      "Without RLR:\n",
      "CLF 1:  0.884225759768\n",
      "CLF 2:  0.895803183792\n",
      "CLF 3:  0.819102749638\n",
      "CLF 4:  0.862518089725\n",
      "ECLF 1:  0.897250361795\n",
      "ECLF 2:  0.897250361795\n",
      "With RLR:\n",
      "CLF 1:  0.888567293777\n",
      "CLF 2:  0.894356005789\n",
      "CLF 3:  0.839363241679\n",
      "CLF 4:  0.848046309696\n",
      "ECLF 1:  0.894356005789\n",
      "ECLF 2:  0.89001447178\n"
     ]
    }
   ],
   "source": [
    "comparemodels(x,y,indexseason)"
   ]
  },
  {
   "cell_type": "code",
   "execution_count": 16,
   "metadata": {
    "collapsed": false
   },
   "outputs": [
    {
     "name": "stdout",
     "output_type": "stream",
     "text": [
      "[2014, 2012]\n",
      "Without RLR:\n",
      "CLF 1:  0.899425287356\n",
      "CLF 2:  0.890804597701\n",
      "CLF 3:  0.830459770115\n",
      "CLF 4:  0.847701149425\n",
      "ECLF 1:  0.908045977011\n",
      "ECLF 2:  0.89224137931\n",
      "With RLR:\n",
      "CLF 1:  0.918103448276\n",
      "CLF 2:  0.902298850575\n",
      "CLF 3:  0.853448275862\n",
      "CLF 4:  0.826149425287\n",
      "ECLF 1:  0.913793103448\n",
      "ECLF 2:  0.916666666667\n"
     ]
    }
   ],
   "source": [
    "comparemodels(x,y,indexseason)"
   ]
  },
  {
   "cell_type": "code",
   "execution_count": 17,
   "metadata": {
    "collapsed": false
   },
   "outputs": [
    {
     "name": "stdout",
     "output_type": "stream",
     "text": [
      "[2012, 2010]\n",
      "Without RLR:\n",
      "CLF 1:  0.900289017341\n",
      "CLF 2:  0.893063583815\n",
      "CLF 3:  0.825144508671\n",
      "CLF 4:  0.859826589595\n",
      "ECLF 1:  0.911849710983\n",
      "ECLF 2:  0.914739884393\n",
      "With RLR:\n",
      "CLF 1:  0.923410404624\n",
      "CLF 2:  0.914739884393\n",
      "CLF 3:  0.833815028902\n",
      "CLF 4:  0.868497109827\n",
      "ECLF 1:  0.921965317919\n",
      "ECLF 2:  0.910404624277\n"
     ]
    }
   ],
   "source": [
    "comparemodels(x,y,indexseason)"
   ]
  },
  {
   "cell_type": "code",
   "execution_count": 18,
   "metadata": {
    "collapsed": true
   },
   "outputs": [],
   "source": [
    "xvalidation = np.array(x.loc[abt['Season'].isin(indexseason)])\n",
    "yvalidation = np.array(y.loc[abt['Season'].isin(indexseason)])"
   ]
  },
  {
   "cell_type": "code",
   "execution_count": 20,
   "metadata": {
    "collapsed": false
   },
   "outputs": [
    {
     "name": "stdout",
     "output_type": "stream",
     "text": [
      "With RLR:\n",
      "CLF 1:  0.88603988604\n",
      "CLF 2:  0.88603988604\n",
      "CLF 3:  0.840455840456\n",
      "CLF 4:  0.834757834758\n",
      "ECLF 1:  0.894586894587\n",
      "ECLF 2:  0.888888888889\n"
     ]
    }
   ],
   "source": [
    "ensemble2(xvalidation,yvalidation,xfinalclf,yfinalclf)"
   ]
  },
  {
   "cell_type": "code",
   "execution_count": null,
   "metadata": {
    "collapsed": true
   },
   "outputs": [],
   "source": []
  }
 ],
 "metadata": {
  "kernelspec": {
   "display_name": "Python 3",
   "language": "python",
   "name": "python3"
  },
  "language_info": {
   "codemirror_mode": {
    "name": "ipython",
    "version": 3
   },
   "file_extension": ".py",
   "mimetype": "text/x-python",
   "name": "python",
   "nbconvert_exporter": "python",
   "pygments_lexer": "ipython3",
   "version": "3.5.1"
  }
 },
 "nbformat": 4,
 "nbformat_minor": 0
}
